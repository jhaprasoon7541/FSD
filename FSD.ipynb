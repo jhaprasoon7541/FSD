{
  "nbformat": 4,
  "nbformat_minor": 0,
  "metadata": {
    "colab": {
      "provenance": []
    },
    "kernelspec": {
      "name": "python3",
      "display_name": "Python 3"
    },
    "language_info": {
      "name": "python"
    }
  },
  "cells": [
    {
      "cell_type": "code",
      "execution_count": 1,
      "metadata": {
        "id": "DboFTNVS8Utg"
      },
      "outputs": [],
      "source": []
    },
    {
      "cell_type": "markdown",
      "source": [
        "# FUNCTION"
      ],
      "metadata": {
        "id": "qQ3-exbN98zV"
      }
    },
    {
      "cell_type": "markdown",
      "source": [
        "1. what is the difference between function and python?\n",
        "   - this is the answer of first question\n",
        "\n",
        "\n",
        "\n",
        "2. second question?\n",
        "  - this is the answer of second question.\n",
        "\n",
        "\n",
        "3. third question?\n",
        "   - this is the answer of third question"
      ],
      "metadata": {
        "id": "2vUTRZej-IcM"
      }
    }
  ]
}